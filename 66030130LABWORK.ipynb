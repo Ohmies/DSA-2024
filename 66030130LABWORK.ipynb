{
 "cells": [
  {
   "cell_type": "markdown",
   "metadata": {},
   "source": [
    "### แบบฝึกหัดที่ 1: Array 1 มิติ\n",
    "\n",
    "1. จงเขียนโปรแกรมสร้าง Array เก็บคะแนนสอบของนักเรียน 5 คน และ:\n",
    "   - หาค่าเฉลี่ย\n",
    "   - หาคะแนนสูงสุดและต่ำสุด\n",
    "   - แสดงจำนวนคนที่ได้คะแนนมากกว่าค่าเฉลี่ย"
   ]
  },
  {
   "cell_type": "code",
   "execution_count": null,
   "metadata": {},
   "outputs": [],
   "source": []
  },
  {
   "cell_type": "markdown",
   "metadata": {},
   "source": [
    "2. สร้างโปรแกรมจัดการรายชื่อสินค้าในร้านค้า โดยมีฟังก์ชัน:\n",
    "   - เพิ่มสินค้าใหม่\n",
    "   - ลบสินค้าที่หมด\n",
    "   - ค้นหาสินค้า\n",
    "   - แสดงรายการสินค้าทั้งหมด"
   ]
  },
  {
   "cell_type": "code",
   "execution_count": null,
   "metadata": {},
   "outputs": [],
   "source": []
  },
  {
   "cell_type": "markdown",
   "metadata": {},
   "source": [
    "### แบบฝึกหัดที่ 2: Array 2 มิติ\n",
    "1. จงเขียนโปรแกรมจัดการคะแนนสอบ:\n",
    "   - เก็บคะแนนสอบ 3 วิชาของนักเรียน 4 คน\n",
    "   - คำนวณคะแนนเฉลี่ยของแต่ละวิชา\n",
    "   - หานักเรียนที่ได้คะแนนรวมสูงสุด\n",
    "   - แสดงจำนวนนักเรียนที่สอบผ่านแต่ละวิชา (คะแนนผ่าน ≥ 50)"
   ]
  },
  {
   "cell_type": "code",
   "execution_count": null,
   "metadata": {},
   "outputs": [],
   "source": []
  },
  {
   "cell_type": "markdown",
   "metadata": {},
   "source": [
    "2. สร้างโปรแกรมจัดการที่นั่งในโรงภาพยนตร์:\n",
    "   - แสดงแผนผังที่นั่ง (ว่าง/จอง)\n",
    "   - จองที่นั่ง\n",
    "   - ยกเลิกการจอง\n",
    "   - แสดงจำนวนที่นั่งว่างทั้งหมด"
   ]
  },
  {
   "cell_type": "code",
   "execution_count": null,
   "metadata": {},
   "outputs": [],
   "source": []
  },
  {
   "cell_type": "markdown",
   "metadata": {},
   "source": [
    "### แบบฝึกหัดที่ 3: Array 3 มิติ\n",
    "\n",
    "1. จงเขียนโปรแกรมจัดการข้อมูลอุณหภูมิ:\n",
    "   - เก็บอุณหภูมิของ 3 เมือง\n",
    "   - วัด 4 ครั้งต่อวัน\n",
    "   - เป็นเวลา 7 วัน\n",
    "   - หาค่าเฉลี่ยอุณหภูมิของแต่ละเมือง\n",
    "   - หาวันและเวลาที่อุณหภูมิสูงที่สุดของแต่ละเมือง"
   ]
  },
  {
   "cell_type": "code",
   "execution_count": null,
   "metadata": {},
   "outputs": [],
   "source": []
  },
  {
   "cell_type": "markdown",
   "metadata": {},
   "source": [
    "2. เขียนโปรแกรมวิเคราะห์ผลการเรียน:\n",
    "   - เก็บคะแนนของนักเรียน 3 ห้อง\n",
    "   - ห้องละ 5 คน\n",
    "   - สอบ 4 วิชา\n",
    "   - หาห้องที่มีคะแนนเฉลี่ยสูงสุด\n",
    "   - หานักเรียนที่ได้คะแนนรวมสูงสุดในแต่ละห้อง\n",
    "   - แสดงจำนวนนักเรียนที่สอบผ่านทุกวิชาในแต่ละห้อง"
   ]
  },
  {
   "cell_type": "code",
   "execution_count": null,
   "metadata": {},
   "outputs": [],
   "source": []
  }
 ],
 "metadata": {
  "kernelspec": {
   "display_name": "Python 3",
   "language": "python",
   "name": "python3"
  },
  "language_info": {
   "codemirror_mode": {
    "name": "ipython",
    "version": 3
   },
   "file_extension": ".py",
   "mimetype": "text/x-python",
   "name": "python",
   "nbconvert_exporter": "python",
   "pygments_lexer": "ipython3",
   "version": "3.13.1"
  },
  "polyglot_notebook": {
   "kernelInfo": {
    "defaultKernelName": "csharp",
    "items": [
     {
      "aliases": [],
      "languageName": "csharp",
      "name": "csharp"
     }
    ]
   }
  }
 },
 "nbformat": 4,
 "nbformat_minor": 2
}
