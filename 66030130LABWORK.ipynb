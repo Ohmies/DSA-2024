{
 "cells": [
  {
   "cell_type": "markdown",
   "metadata": {},
   "source": [
    "### แบบฝึกหัดที่ 2: Array 1 มิติ\n",
    "\n",
    "1. จงเขียนโปรแกรมสร้าง Array เก็บคะแนนสอบของนักเรียน 5 คน และ:\n",
    "   - หาค่าเฉลี่ย\n",
    "   - หาคะแนนสูงสุดและต่ำสุด\n",
    "   - แสดงจำนวนคนที่ได้คะแนนมากกว่าค่าเฉลี่ย"
   ]
  },
  {
   "cell_type": "code",
   "execution_count": null,
   "metadata": {},
   "outputs": [],
   "source": [
    "student_score = [45, 67, 75, 51, 95]\n",
    "average = sum(student_score) / len(student_score)\n",
    "score_max = max(student_score)\n",
    "score_min = min(student_score)\n",
    "above_average_count = sum(student_score > average for student_score in student_score)\n",
    "\n",
    "print(f\"นักเรียน 5 คนมีคะแนนอยุ่ดังนี้ : {student_score}\")\n",
    "print(f\"คะแนนสูงสุด : {score_max}\")\n",
    "print(f\"คะแนนต่ำสุด : {score_min}\")\n",
    "print(f\"ค่าเฉลี่ย : {average}\")\n",
    "print(f\"จำนวนคนที่ได้คะแนนมากกว่าค่าเฉลี่ย : {above_average_count} คน\")"
   ]
  },
  {
   "cell_type": "markdown",
   "metadata": {},
   "source": [
    "2. สร้างโปรแกรมจัดการรายชื่อสินค้าในร้านค้า โดยมีฟังก์ชัน:\n",
    "   - เพิ่มสินค้าใหม่\n",
    "   - ลบสินค้าที่หมด\n",
    "   - ค้นหาสินค้า\n",
    "   - แสดงรายการสินค้าทั้งหมด"
   ]
  },
  {
   "cell_type": "code",
   "execution_count": null,
   "metadata": {},
   "outputs": [],
   "source": [
    "stock = []\n",
    "\n",
    "def add_product():\n",
    "    new_product = input(\"เพิ่มสินค้าชิ้นใหม่ :\")\n",
    "    stock.append(new_product)\n",
    "    print(f\"เพิ่มสินค้า {new_product} เรียบร้อยแล้ว\")\n",
    "    \n",
    "def remove_product():\n",
    "    remove_product = input(\"เลือกสอนค้าที่ต้องการจะลบ :\")\n",
    "    stock.remove(remove_product)\n",
    "    print(f\"ลบ {remove_product} ออกจากสต็อกเรียบร้อยแล้ว\")\n",
    "\n",
    "def search_product():\n",
    "    search_product = input(\"ชื่่อสินค้าที่ต้องการค้นหา :\")\n",
    "    if search_product in stock:\n",
    "        print(f\"เจอ {search_product} ในสต็อกแล้ว\")\n",
    "    else:\n",
    "        print(f\"ไม่พบ {search_product} ในสต็อก\")\n",
    "\n",
    "def list_product():\n",
    "    print(\"สินค้าในสต๊อกปัจจุบันมีดังนี้ :\")\n",
    "    for index,product in enumerate(stock, start=1):\n",
    "        print(f\"{index}.{product}\")\n",
    "\n",
    "def menu():\n",
    "    while True:\n",
    "        print(\"พิมพ์ 1 เพื่อเพิ่มสินค้า\")\n",
    "        print(\"พิมพ์ 2 เพื่อลบสินค้า\")\n",
    "        print(\"พิมพ์ 3 เพื่อค้นหาสินค้า\")\n",
    "        print(\"พิมพ์ 4 เพื่อแสดงรายการสินค้าทั้งหมด\")\n",
    "        print(\"พิมพ์ 5 เพื่อออกจากโปรแกรม\")\n",
    "    \n",
    "        choice = input(\"กรุณาเลือกทำรายการ :\")\n",
    "        \n",
    "        if choice == \"1\" :\n",
    "            add_product()\n",
    "        elif choice == \"2\" :\n",
    "            remove_product()\n",
    "        elif choice == \"3\" :\n",
    "            search_product()\n",
    "        elif choice == \"4\" :\n",
    "            list_product()\n",
    "        elif choice == \"5\" :\n",
    "            yes_or_no = input(\"ต้องการออกจากโปรแกรมใช่หรือไม่ (yes/no) :\")\n",
    "            if yes_or_no == \"yes\" :\n",
    "                break\n",
    "            else:\n",
    "                continue\n",
    "        else:\n",
    "            print(\"กรุณาเลือกทำรายการใหม่อีกครั้ง\")\n",
    "\n",
    "if __name__ == \"__menu__\":\n",
    "    menu()\n",
    "    "
   ]
  },
  {
   "cell_type": "markdown",
   "metadata": {},
   "source": [
    "### แบบฝึกหัดที่ 2: Array 2 มิติ\n",
    "1. จงเขียนโปรแกรมจัดการคะแนนสอบ:\n",
    "   - เก็บคะแนนสอบ 3 วิชาของนักเรียน 4 คน\n",
    "   - คำนวณคะแนนเฉลี่ยของแต่ละวิชา\n",
    "   - หานักเรียนที่ได้คะแนนรวมสูงสุด\n",
    "   - แสดงจำนวนนักเรียนที่สอบผ่านแต่ละวิชา (คะแนนผ่าน ≥ 50)"
   ]
  },
  {
   "cell_type": "code",
   "execution_count": null,
   "metadata": {},
   "outputs": [],
   "source": []
  },
  {
   "cell_type": "markdown",
   "metadata": {},
   "source": [
    "2. สร้างโปรแกรมจัดการที่นั่งในโรงภาพยนตร์:\n",
    "   - แสดงแผนผังที่นั่ง (ว่าง/จอง)\n",
    "   - จองที่นั่ง\n",
    "   - ยกเลิกการจอง\n",
    "   - แสดงจำนวนที่นั่งว่างทั้งหมด"
   ]
  },
  {
   "cell_type": "code",
   "execution_count": null,
   "metadata": {},
   "outputs": [],
   "source": []
  },
  {
   "cell_type": "markdown",
   "metadata": {},
   "source": [
    "### แบบฝึกหัดที่ 3: Array 3 มิติ\n",
    "\n",
    "1. จงเขียนโปรแกรมจัดการข้อมูลอุณหภูมิ:\n",
    "   - เก็บอุณหภูมิของ 3 เมือง\n",
    "   - วัด 4 ครั้งต่อวัน\n",
    "   - เป็นเวลา 7 วัน\n",
    "   - หาค่าเฉลี่ยอุณหภูมิของแต่ละเมือง\n",
    "   - หาวันและเวลาที่อุณหภูมิสูงที่สุดของแต่ละเมือง"
   ]
  },
  {
   "cell_type": "code",
   "execution_count": null,
   "metadata": {},
   "outputs": [],
   "source": []
  },
  {
   "cell_type": "markdown",
   "metadata": {},
   "source": [
    "2. เขียนโปรแกรมวิเคราะห์ผลการเรียน:\n",
    "   - เก็บคะแนนของนักเรียน 3 ห้อง\n",
    "   - ห้องละ 5 คน\n",
    "   - สอบ 4 วิชา\n",
    "   - หาห้องที่มีคะแนนเฉลี่ยสูงสุด\n",
    "   - หานักเรียนที่ได้คะแนนรวมสูงสุดในแต่ละห้อง\n",
    "   - แสดงจำนวนนักเรียนที่สอบผ่านทุกวิชาในแต่ละห้อง"
   ]
  },
  {
   "cell_type": "code",
   "execution_count": null,
   "metadata": {},
   "outputs": [],
   "source": []
  }
 ],
 "metadata": {
  "kernelspec": {
   "display_name": "Python 3",
   "language": "python",
   "name": "python3"
  },
  "language_info": {
   "codemirror_mode": {
    "name": "ipython",
    "version": 3
   },
   "file_extension": ".py",
   "mimetype": "text/x-python",
   "name": "python",
   "nbconvert_exporter": "python",
   "pygments_lexer": "ipython3",
   "version": "3.13.1"
  },
  "polyglot_notebook": {
   "kernelInfo": {
    "defaultKernelName": "csharp",
    "items": [
     {
      "aliases": [],
      "languageName": "csharp",
      "name": "csharp"
     }
    ]
   }
  }
 },
 "nbformat": 4,
 "nbformat_minor": 2
}
